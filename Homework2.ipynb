{
 "cells": [
  {
   "cell_type": "markdown",
   "metadata": {},
   "source": [
    "Problem 1:\n",
    "\n",
    "1. \"A random variable is discrete if its support is countable and there exists an associated probability density function (pdf)\"\n",
    "FALSE - Since discrete random variables have probability mass functions (pmf), not probability density functions (pdf). PDFs are usually used with continuous random variables.\n",
    "\n",
    "2. \"Probability mass functions have a lower bound of 0 and an upper bound of 1\"\n",
    "TRUE - PMFs must be non-negative and cannot exceed a value of 1.\n",
    "\n",
    "3. \"The set of all possible realizations of a random variable is called its probability density\"\n",
    "FALSE - This description is used as the support of the random variable. The probability density is a function that describes the relative likelihood of different outcomes.\n",
    "\n",
    "4. \"The expected value of a discrete random variable is always part of its support\"\n",
    "FALSE - The expected value can fall between possible values. For example, a fair coin has E[X] = 0.5 (for 50 50 chance), but the support would be {0,1}.\n",
    "\n",
    "5. \"Continuous random variables are functions which map points from the sample space to the real numbers\"\n",
    "TRUE - This is a correct definition of a continuous random variable.\n",
    "\n",
    "6. \"We can formulate most parametric Bayesian models as a generative process, by which we first sample from the likelihood and then use the synthetic data point to sample from the prior\"\n",
    "FALSE - In a generative process, Step one is first sampling from the prior distribution of parameters, then use those parameters to sample from the likelihood to generate data. The order is just reversed.\n",
    "\n",
    "7. \"The Bayesian posterior p(θ | y) for continuous parameter vectors θ ∈ RD is just another density function. That means, its integral R p(θ | Y = y) dθ̸ = 1 for some y\"\n",
    "FALSE - The posterior is a density function, but it must integrate to 1 for all y. The statement incorrectly says there exists some y where the integral doesn't equal 1.\n",
    "\n",
    "8. \"Each realization of a continuous random variable has a probability of zero\"\n",
    "TRUE - Individual points in a continuous distribution have probability zero; probability is only defined for intervals.\n",
    "\n",
    "In conclusion, statements 1, 3, 4, 6, and 7 are false."
   ]
  }
 ],
 "metadata": {
  "language_info": {
   "name": "python"
  }
 },
 "nbformat": 4,
 "nbformat_minor": 2
}
